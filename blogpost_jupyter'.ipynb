{
 "cells": [
  {
   "cell_type": "code",
   "execution_count": 60,
   "id": "c3e01c6c",
   "metadata": {},
   "outputs": [],
   "source": [
    "import os\n",
    "import openai\n",
    "import random\n",
    "import string\n",
    "\n",
    "#set up gitpython library - allows us to do GIT calls from python code\n",
    "from git import Repo\n",
    "from pathlib import Path #allows us to set up paths and set up directories\n",
    "\n",
    "import shutil\n",
    "\n",
    "from bs4 import BeautifulSoup\n",
    "from PIL import Image"
   ]
  },
  {
   "cell_type": "code",
   "execution_count": 40,
   "id": "ad880579",
   "metadata": {},
   "outputs": [],
   "source": [
    "#set up api key - use later\n",
    "# openai.api_key = os.getenv('OPENAI_API_KEY')"
   ]
  },
  {
   "cell_type": "code",
   "execution_count": 41,
   "id": "848507ba",
   "metadata": {},
   "outputs": [
    {
     "data": {
      "text/plain": [
       "'C:\\\\Users\\\\brian\\\\OneDrive\\\\Documents\\\\GitHub\\\\briannalytle.github.io'"
      ]
     },
     "execution_count": 41,
     "metadata": {},
     "output_type": "execute_result"
    }
   ],
   "source": [
    "pwd"
   ]
  },
  {
   "cell_type": "code",
   "execution_count": 42,
   "id": "23407562",
   "metadata": {},
   "outputs": [],
   "source": [
    "PATH_TO_BLOG_REPO = Path('C:\\\\Users\\\\brian\\\\OneDrive\\\\Documents\\\\GitHub\\\\briannalytle.github.io\\\\.git')\n",
    "PATH_TO_BLOG = PATH_TO_BLOG_REPO.parent\n",
    "PATH_TO_CONTENT = PATH_TO_BLOG/\"content\""
   ]
  },
  {
   "cell_type": "code",
   "execution_count": 43,
   "id": "c4221495",
   "metadata": {},
   "outputs": [],
   "source": [
    "PATH_TO_CONTENT.mkdir(exist_ok = True, parents = True)\n",
    "#using python to make file for us"
   ]
  },
  {
   "cell_type": "markdown",
   "id": "a6621d97",
   "metadata": {},
   "source": [
    "# Github Pages\n",
    "\n",
    "1. Create a new public repository on github named **username.github.io**, where username is github username.\n",
    "2. Clone the repository\n",
    "3. Create a new file called **index.html**\n",
    "4. Add some content to **index.html**\n",
    "5. Push your changes\n",
    "6. Goto https://username.github.io\n",
    "\n",
    "## Automatic Updates\n",
    "Manually adding, commmiting and pushing is tedious.Thus, we will implement a function that handles everyting. Before using openai to generate content for us - we evaluate our code using random strings"
   ]
  },
  {
   "cell_type": "code",
   "execution_count": 44,
   "id": "a7af94ac",
   "metadata": {},
   "outputs": [],
   "source": [
    "def update_blog(commit_message = 'Updated blog'):\n",
    "    #Gitpython -- repo location\n",
    "    repo = Repo(PATH_TO_BLOG_REPO)\n",
    "    #git add .\n",
    "    repo.git.add(all = True)\n",
    "    #git commit -m \"update blog\"\n",
    "    repo.index.commit(commit_message) \n",
    "    #git push\n",
    "    origin = repo.remote(name = 'origin')\n",
    "    origin.push()"
   ]
  },
  {
   "cell_type": "markdown",
   "id": "90c419cf",
   "metadata": {},
   "source": [
    "** Feeding it random text to test update**"
   ]
  },
  {
   "cell_type": "code",
   "execution_count": 45,
   "id": "7a212d1d",
   "metadata": {},
   "outputs": [],
   "source": [
    "random_text_string= 'daftghneianrhwaeklmvc'"
   ]
  },
  {
   "cell_type": "code",
   "execution_count": 46,
   "id": "2d4642b9",
   "metadata": {},
   "outputs": [],
   "source": [
    "#'w' means we are writing to it\n",
    "with open(PATH_TO_BLOG/\"index.html\", \"w\") as f:\n",
    "    f.write(random_text_string)"
   ]
  },
  {
   "cell_type": "code",
   "execution_count": 47,
   "id": "e5f0931e",
   "metadata": {},
   "outputs": [],
   "source": [
    "update_blog()"
   ]
  },
  {
   "cell_type": "markdown",
   "id": "fbca4c98",
   "metadata": {},
   "source": [
    "Problem: We always overwrite the starting page!\n",
    "It would be much better to create a new html file and create a link to this file on the homepage. \n",
    "Ideally, the routine would automatically assign a file name and make sure that nothing is overwritten!"
   ]
  },
  {
   "cell_type": "markdown",
   "id": "fb027ee7",
   "metadata": {},
   "source": [
    "# pt.2 -\n",
    "- FUNCTIONS to auto create html page template with placeholders for text and iamges\n",
    "- use text and images form our api calls"
   ]
  },
  {
   "cell_type": "code",
   "execution_count": 70,
   "id": "153823c8",
   "metadata": {},
   "outputs": [],
   "source": [
    "def create_new_blog(title, content, cover_image=Path(\"../PT Centered Purple.png\")):\n",
    "    \n",
    "    cover_image = Path(cover_image)\n",
    "    \n",
    "    files =len(list(PATH_TO_CONTENT.glob(\"*.html\")))\n",
    "    new_title = f\"{files+1}.html\"\n",
    "    path_to_new_content = PATH_TO_CONTENT/new_title\n",
    "    \n",
    "    shutil.copy(cover_image, PATH_TO_CONTENT)\n",
    "    if not os.path.exists(path_to_new_content):\n",
    "        with open(path_to_new_content, \"w\") as f:\n",
    "            f.write(\"<!DOCTYPE html>\\n\")\n",
    "            f.write(\"<html>\\n\")\n",
    "            f.write(\"<head>\\n\")\n",
    "            f.write(f\"<title> {title} </title>\\n\")\n",
    "            f.write(\"</head>\\n\")\n",
    "            \n",
    "            f.write(\"<body>\\n\")\n",
    "            f.write(f\"<img src='{cover_image.name}' alt='Cover Image'> <br />\\n\")\n",
    "            f.write(f\"<h1> {title} </h1>\")\n",
    "            f.write(content.replace(\"\\n\", \"<br />\\n\"))\n",
    "            f.write(\"</body>\\n\")\n",
    "            f.write(\"</html>\\n\")\n",
    "            print(\"Blog created\")\n",
    "            return path_to_new_content\n",
    "    else:\n",
    "        raise FileExistsError(\"File already exist! Abort\")"
   ]
  },
  {
   "cell_type": "code",
   "execution_count": 71,
   "id": "ab6ff9ed",
   "metadata": {},
   "outputs": [
    {
     "name": "stdout",
     "output_type": "stream",
     "text": [
      "Blog created\n"
     ]
    }
   ],
   "source": [
    "path_to_new_contet = create_new_blog('Test_title',\n",
    "                                    'aeuwthrawef', 'apples.jpg')"
   ]
  },
  {
   "cell_type": "markdown",
   "id": "1e3bbfb5",
   "metadata": {},
   "source": [
    "we want an indexed page that has a lsit of all blog posts"
   ]
  },
  {
   "cell_type": "code",
   "execution_count": 72,
   "id": "23646e56",
   "metadata": {},
   "outputs": [
    {
     "data": {
      "text/plain": [
       "'<html lang=\"en\">\\n<head>\\n<meta charset=\"utf-8\"/>\\n<meta content=\"IE=edge\" http-equiv=\"X-UA-Compatible\"/>\\n<meta content=\"width=device-width, initial-scale=1.0\" name=\"viewport\"/>\\n<title>Document</title>\\n</head>\\n<body>\\n<h1>My BLOG Home Page</h1>\\n<a href=\"index.html\">Home</a>\\n</body>\\n</html>'"
      ]
     },
     "execution_count": 72,
     "metadata": {},
     "output_type": "execute_result"
    }
   ],
   "source": [
    "with open(PATH_TO_BLOG/\"index.html\") as index:\n",
    "    soup = BeautifulSoup(index.read())\n",
    "str(soup)"
   ]
  },
  {
   "cell_type": "code",
   "execution_count": 64,
   "id": "bdcf8299",
   "metadata": {},
   "outputs": [],
   "source": [
    "#checkign duplicate links\n",
    "\n",
    "#write blog post  link to index.html file"
   ]
  },
  {
   "cell_type": "code",
   "execution_count": 74,
   "id": "0199505c",
   "metadata": {},
   "outputs": [],
   "source": [
    "def check_for_duplicate_links(path_to_new_content, links):\n",
    "    urls = [str(link.get(\"href\")) for link in links]\n",
    "    content_path = str(Path(*path_to_new_content.parts[-2:]))\n",
    "    return content_path in urls"
   ]
  },
  {
   "cell_type": "code",
   "execution_count": 75,
   "id": "87b2b710",
   "metadata": {},
   "outputs": [
    {
     "data": {
      "text/plain": [
       "[<a href=\"index.html\">Home</a>]"
      ]
     },
     "execution_count": 75,
     "metadata": {},
     "output_type": "execute_result"
    }
   ],
   "source": [
    "soup.find_all('a')"
   ]
  },
  {
   "cell_type": "code",
   "execution_count": 76,
   "id": "9525c013",
   "metadata": {},
   "outputs": [],
   "source": [
    "def write_to_index(path_to_new_content):\n",
    "    with open(PATH_TO_BLOG/\"index.html\") as index:\n",
    "        soup = BeautifulSoup(index.read())\n",
    "        \n",
    "    links = soup.find_all('a')\n",
    "    last_link = links[-1]\n",
    "    \n",
    "    if check_for_duplicate_links(path_to_new_content, links):\n",
    "        raise ValueError('Link does already exist!')\n",
    "        \n",
    "    link_to_new_blog = BeautifulSoup.new_tag('a', href = Path(*path_to_new_content.parts[-2:]))\n",
    "    link_to_new_blog.string = path_to_new_content.name.split('.')[0]\n",
    "    last_link.insert_after(link_to_new_blog)\n",
    "    \n",
    "    with open(PATH_TO_BLOG/'index.html', 'w') as f:\n",
    "        f.write(str(BeautifulSoup.prettify(formatter = 'html')))"
   ]
  },
  {
   "cell_type": "code",
   "execution_count": 77,
   "id": "8fe64338",
   "metadata": {},
   "outputs": [
    {
     "ename": "NameError",
     "evalue": "name 'path_to_new_content' is not defined",
     "output_type": "error",
     "traceback": [
      "\u001b[1;31m---------------------------------------------------------------------------\u001b[0m",
      "\u001b[1;31mNameError\u001b[0m                                 Traceback (most recent call last)",
      "Input \u001b[1;32mIn [77]\u001b[0m, in \u001b[0;36m<cell line: 1>\u001b[1;34m()\u001b[0m\n\u001b[1;32m----> 1\u001b[0m write_to_index(\u001b[43mpath_to_new_content\u001b[49m)\n",
      "\u001b[1;31mNameError\u001b[0m: name 'path_to_new_content' is not defined"
     ]
    }
   ],
   "source": [
    "write_to_index(path_to_new_content)\n"
   ]
  },
  {
   "cell_type": "code",
   "execution_count": null,
   "id": "6e205d7f",
   "metadata": {},
   "outputs": [],
   "source": []
  }
 ],
 "metadata": {
  "kernelspec": {
   "display_name": "Python 3 (ipykernel)",
   "language": "python",
   "name": "python3"
  },
  "language_info": {
   "codemirror_mode": {
    "name": "ipython",
    "version": 3
   },
   "file_extension": ".py",
   "mimetype": "text/x-python",
   "name": "python",
   "nbconvert_exporter": "python",
   "pygments_lexer": "ipython3",
   "version": "3.9.12"
  }
 },
 "nbformat": 4,
 "nbformat_minor": 5
}
